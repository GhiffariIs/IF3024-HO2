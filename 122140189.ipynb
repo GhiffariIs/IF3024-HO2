{
 "cells": [
  {
   "cell_type": "markdown",
   "id": "3299dbbf",
   "metadata": {},
   "source": [
    "# Tugas Hands-On 2\n",
    "oleh Muhammad Ghiffari Iskandar - 122140189"
   ]
  },
  {
   "cell_type": "markdown",
   "id": "3bbe82d5",
   "metadata": {},
   "source": [
    "## Soal 1 - Simulasi Sinyal PPG\n",
    "\n",
    "### A. Buktikan Downsampling Membuat Sinyal Asli Terdistorsi dan Mengalami Aliasing, kemudian Jelaskan Apa itu Aliasing"
   ]
  },
  {
   "cell_type": "code",
   "execution_count": null,
   "id": "7ef5ec56",
   "metadata": {},
   "outputs": [
    {
     "ename": "TypeError",
     "evalue": "ppg_simulate() got an unexpected keyword argument 'noise'",
     "output_type": "error",
     "traceback": [
      "\u001b[1;31m---------------------------------------------------------------------------\u001b[0m",
      "\u001b[1;31mTypeError\u001b[0m                                 Traceback (most recent call last)",
      "Cell \u001b[1;32mIn[1], line 18\u001b[0m\n\u001b[0;32m     15\u001b[0m random_state \u001b[38;5;241m=\u001b[39m \u001b[38;5;241m260504\u001b[39m\n\u001b[0;32m     17\u001b[0m \u001b[38;5;66;03m# Simulate PPG signal\u001b[39;00m\n\u001b[1;32m---> 18\u001b[0m ppg \u001b[38;5;241m=\u001b[39m \u001b[43mnk\u001b[49m\u001b[38;5;241;43m.\u001b[39;49m\u001b[43mppg_simulate\u001b[49m\u001b[43m(\u001b[49m\u001b[43mduration\u001b[49m\u001b[38;5;241;43m=\u001b[39;49m\u001b[43mduration\u001b[49m\u001b[43m,\u001b[49m\u001b[43m \u001b[49m\n\u001b[0;32m     19\u001b[0m \u001b[43m                     \u001b[49m\u001b[43msampling_rate\u001b[49m\u001b[38;5;241;43m=\u001b[39;49m\u001b[43msampling_rate\u001b[49m\u001b[43m,\u001b[49m\n\u001b[0;32m     20\u001b[0m \u001b[43m                     \u001b[49m\u001b[43mnoise\u001b[49m\u001b[38;5;241;43m=\u001b[39;49m\u001b[43mnoise\u001b[49m\u001b[43m,\u001b[49m\u001b[43m \u001b[49m\n\u001b[0;32m     21\u001b[0m \u001b[43m                     \u001b[49m\u001b[43mheart_rate\u001b[49m\u001b[38;5;241;43m=\u001b[39;49m\u001b[43mheart_rate\u001b[49m\u001b[43m,\u001b[49m\n\u001b[0;32m     22\u001b[0m \u001b[43m                     \u001b[49m\u001b[43mrandom_state\u001b[49m\u001b[38;5;241;43m=\u001b[39;49m\u001b[43mrandom_state\u001b[49m\u001b[43m)\u001b[49m\n",
      "\u001b[1;31mTypeError\u001b[0m: ppg_simulate() got an unexpected keyword argument 'noise'"
     ]
    }
   ],
   "source": [
    "# Prompting \"buatkan kode program simulasi sinyal PPG menggunakan \n",
    "# library neurokit2.ppg_simulate dengan ketentuan berikut: Durasi \n",
    "# 189 sekon, sampling rate 150 Hz, Noise level 0.89, Heart rate 80 \n",
    "# BPM, Random state 260504\"\n",
    "\n",
    "import neurokit2 as nk\n",
    "import numpy as np\n",
    "\n",
    "# Generate simulated PPG signal\n",
    "duration = 189  # seconds\n",
    "sampling_rate = 150  # Hz\n",
    "noise = 0.89\n",
    "heart_rate = 80  # BPM\n",
    "random_state = 260504\n",
    "\n",
    "# Simulate PPG signal\n",
    "ppg = nk.ppg_simulate(duration=duration, \n",
    "                     sampling_rate=sampling_rate,\n",
    "                     noise=noise, \n",
    "                     heart_rate=heart_rate,\n",
    "                     random_state=random_state)"
   ]
  },
  {
   "cell_type": "code",
   "execution_count": null,
   "id": "614a4ee0",
   "metadata": {},
   "outputs": [],
   "source": []
  }
 ],
 "metadata": {
  "kernelspec": {
   "display_name": "venv",
   "language": "python",
   "name": "python3"
  },
  "language_info": {
   "codemirror_mode": {
    "name": "ipython",
    "version": 3
   },
   "file_extension": ".py",
   "mimetype": "text/x-python",
   "name": "python",
   "nbconvert_exporter": "python",
   "pygments_lexer": "ipython3",
   "version": "3.10.11"
  }
 },
 "nbformat": 4,
 "nbformat_minor": 5
}
